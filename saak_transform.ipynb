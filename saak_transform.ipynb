{
 "cells": [
  {
   "cell_type": "code",
   "execution_count": 43,
   "metadata": {},
   "outputs": [],
   "source": [
    "from keras.datasets import mnist\n",
    "import numpy as np\n",
    "from numpy import array\n",
    "from math import log\n",
    "from keras.utils import to_categorical\n",
    "import matplotlib.pyplot as plt\n",
    "from itertools import product\n",
    "from sklearn.decomposition import PCA\n",
    "from sklearn.decomposition import KernelPCA\n",
    "from sklearn.svm import SVC\n",
    "from sklearn.feature_selection import *\n",
    "from sklearn.ensemble import RandomForestClassifier \n",
    "from sklearn.metrics import accuracy_score\n",
    "import tensorflow as tf\n",
    "import copy\n",
    "from skimage.util import *\n",
    "\n",
    "#load MNIST\n",
    "(X_train_raw, y_train_raw), (X_test_raw, y_test_raw) = mnist.load_data()"
   ]
  },
  {
   "cell_type": "code",
   "execution_count": 2,
   "metadata": {},
   "outputs": [],
   "source": [
    "def image_set_preprocessing(X, y, batch_ratio = 1, pad_size=2, pad_method='constant'):\n",
    "    X_pad = np.pad(X, ((0,0),(pad_size,pad_size),(pad_size,pad_size)), 'constant')\n",
    "    \n",
    "    batch_size = (int)(X_pad.shape[0]*batch_ratio)\n",
    "    \n",
    "    #order = np.array(range(X_pad.shape[0]))\n",
    "    #np.random.shuffle(order)\n",
    "    #X_pad_shuffle = X_pad[order]\n",
    "    #y_shuffle = y[order]\n",
    "    X_pad_shuffle = X_pad\n",
    "    y_shuffle = y\n",
    "\n",
    "    X_train_batch = ((X_pad_shuffle[0:batch_size, :, :]).astype('float32'))/255\n",
    "    y_train_batch = y_shuffle[0:batch_size,]\n",
    "    X_train_batch = X_train_batch.reshape(X_train_batch.shape[0], X_train_batch.shape[1], X_train_batch.shape[2], 1)\n",
    "    \n",
    "    return X_train_batch, y_train_batch\n",
    "\n",
    "def image_set_preprocessing_v2(X, y, batch_ratio = 1, pad_size=2, pad_method='constant'):\n",
    "    X_pad = np.pad(X, ((0,0),(pad_size,pad_size),(pad_size,pad_size)), 'constant')\n",
    "    \n",
    "    batch_size = (int)(X_pad.shape[0]*batch_ratio)\n",
    "    \n",
    "    order = np.array(range(X_pad.shape[0]))\n",
    "    np.random.shuffle(order)\n",
    "    X_pad_shuffle = X_pad[order]\n",
    "    y_shuffle = y[order]\n",
    "\n",
    "    X_train_batch = ((X_pad_shuffle[0:batch_size, :, :]).astype('float32'))/255\n",
    "    for i in range(X_train_batch.shape[0]):\n",
    "        X_train_batch[i,:,:] = random_noise(X_train_batch[i,:,:], clip=True)\n",
    "    y_train_batch = y_shuffle[0:batch_size,]\n",
    "    X_train_batch = X_train_batch.reshape(X_train_batch.shape[0], X_train_batch.shape[1], X_train_batch.shape[2], 1)\n",
    "    \n",
    "    return X_train_batch, y_train_batch\n",
    "\n",
    "def flatten_patches(cubio):\n",
    "    window_shape = (1,2,2,cubio.shape[3])\n",
    "    step = (1,2,2,cubio.shape[3])\n",
    "    patches = view_as_windows(cubio, window_shape, step)\n",
    "    patches = patches.squeeze(axis = (3,4))\n",
    "    patches_panel = patches.reshape(-1, patches.shape[-3]*patches.shape[-2]*patches.shape[-1])\n",
    "    \n",
    "    return patches_panel\n",
    "\n",
    "def remove_low_variance(patches_panel,thr=0.05):\n",
    "    var = np.var(patches_panel, axis = 1)\n",
    "    patches_clean = patches_panel[var>thr]\n",
    "    \n",
    "    return patches_clean\n",
    "\n",
    "def remove_patches_mean(patches):\n",
    "    mean = patches.mean(axis = 1)\n",
    "    patches_mean_remov = (patches.T-mean).T\n",
    "    \n",
    "    return patches_mean_remov\n",
    "\n",
    "def pca_kernel(patches, n_comps, kernel):\n",
    "    pca = PCA(n_components = n_comps)\n",
    "    pca.fit(patches)\n",
    "    kernel.append(pca)  \n",
    "    \n",
    "def pca_kernel_v2(patches, kernel):\n",
    "    pca = PCA()\n",
    "    pca.fit(patches)\n",
    "    kernel.append(pca)\n",
    "    \n",
    "def pca_kernel_v3(patches, n_comps, kernel):\n",
    "    pca = KernelPCA(n_components = n_comps)\n",
    "    pca.fit(patches)\n",
    "    kernel.append(pca)\n",
    "    \n",
    "def pca_transform(kernel, layer, patches_mean_remov, patches_panel, X_train):\n",
    "    n_sample = X_train.shape[0]\n",
    "    h = (int)(X_train.shape[1]/pow(2,layer))\n",
    "    patches_proj = k[layer-1].transform(patches_mean_remov)\n",
    "    cubio_pos = patches_proj.reshape(n_sample,h,h,-1)\n",
    "    cubio_neg = -cubio_pos\n",
    "    cubio_pca = np.concatenate((cubio_pos, cubio_neg), axis=3)\n",
    "    dc = patches_panel.mean(axis=1)*2\n",
    "    dc = dc.reshape(n_sample, h, h, -1)\n",
    "    cubio_next = np.concatenate((cubio_pca, dc), axis=3)\n",
    "    \n",
    "    return cubio_next\n",
    "\n",
    "def pca_transform_v2(kernel, layer, patches_mean_remov, patches_panel, X_train):\n",
    "    n_sample = X_train.shape[0]\n",
    "    h = (int)(X_train.shape[1]/pow(2,layer))\n",
    "    patches_proj = k[layer-1].transform(patches_mean_remov)\n",
    "    cubio_pos = patches_proj.reshape(n_sample,h,h,-1)\n",
    "    dc = patches_panel.mean(axis=1)*2\n",
    "    dc = dc.reshape(n_sample, h, h, -1)\n",
    "    cubio_next = np.concatenate((cubio_pos, dc), axis=3)\n",
    "    \n",
    "    return cubio_next\n",
    "\n",
    "def relu(cubio):\n",
    "    cubio_relu = cubio * (cubio > 0)\n",
    "    \n",
    "    return cubio_relu\n",
    "\n",
    "def tanh(cubio):\n",
    "    cubio_tanh = np.divide(np.exp(cubio), 1+np.exp(cubio))\n",
    "    \n",
    "    return cubio_tanh\n",
    "\n",
    "def one_stage_training(cubio, layer, n_comps, kernel, feature_list, X):\n",
    "    print(\"training at the %dth layer ...\" %(layer))\n",
    "    patches_panel = flatten_patches(cubio)\n",
    "    patches_mean_remov = remove_patches_mean(patches_panel)\n",
    "    if layer == 1:\n",
    "        patches_clean = remove_low_variance(patches_mean_remov)\n",
    "    else:\n",
    "        patches_clean = patches_mean_remov\n",
    "    pca_kernel(patches_clean,n_comps[layer-1], kernel)\n",
    "    cubio_next = relu(pca_transform(kernel, layer, patches_mean_remov, patches_panel, X))\n",
    "    feature_list.append(cubio_next)\n",
    "    print(\"Done! the shape of output cubio is %s.\" %(cubio_next.shape,))\n",
    "    \n",
    "    return cubio_next\n",
    "\n",
    "def one_stage_training_v2(cubio, layer, kernel, feature_list, X):\n",
    "    print(\"training at the %dth layer ...\" %(layer))\n",
    "    patches_panel = flatten_patches(cubio)\n",
    "    patches_mean_remov = remove_patches_mean(patches_panel)\n",
    "    if layer == 1:\n",
    "        patches_clean = remove_low_variance(patches_mean_remov)\n",
    "    else:\n",
    "        patches_clean = patches_mean_remov\n",
    "    pca_kernel_v2(patches_clean,kernel)\n",
    "    cubio_next = relu(pca_transform_v2(kernel, layer, patches_mean_remov, patches_panel, X))\n",
    "    feature_list.append(cubio_next)\n",
    "    print(\"Done! the shape of output cubio is %s.\" %(cubio_next.shape,))\n",
    "    \n",
    "    return cubio_next\n",
    "\n",
    "def one_stage_training_v3(cubio, layer, kernel, feature_list, X):\n",
    "    print(\"training at the %dth layer ...\" %(layer))\n",
    "    patches_panel = flatten_patches(cubio)\n",
    "    patches_mean_remov = remove_patches_mean(patches_panel)\n",
    "    if layer == 1:\n",
    "        patches_clean = remove_low_variance(patches_mean_remov)\n",
    "    else:\n",
    "        patches_clean = patches_mean_remov\n",
    "    pca_kernel(patches_clean,n_comps[layer-1],kernel)\n",
    "    cubio_next = tanh(pca_transform_v2(kernel, layer, patches_mean_remov, patches_panel, X))\n",
    "    feature_list.append(cubio_next)\n",
    "    print(\"Done! the shape of output cubio is %s.\" %(cubio_next.shape,))\n",
    "    \n",
    "    return cubio_next\n",
    "\n",
    "def feature_fusion(feature_list, num_layers):\n",
    "    feature = feature_list[0].reshape(feature_list[0].shape[0], -1)\n",
    "    for i in range(num_layers-1):\n",
    "        feature = np.concatenate((feature,feature_list[i+1].reshape(feature_list[i+1].shape[0], -1)), axis=1)\n",
    "    print(\"the shape of features we get is %s.\" %(feature.shape,))\n",
    "    return feature\n",
    "\n",
    "def Reduce_Feature(n_comps, feature):\n",
    "    pca = PCA(n_components = n_comps)\n",
    "    X_pc = pca.fit_transform(feature)\n",
    "    print(\"the number of dimensions kept is %d.\" %(X_pc.shape[1]))\n",
    "    \n",
    "    return X_pc, pca\n",
    "\n",
    "def Reduce_Feature_v2(n_comps, feature):\n",
    "    pca = KernelPCA(n_components = n_comps)\n",
    "    X_pc = pca.fit_transform(feature)\n",
    "    print(\"the number of dimensions kept is %d.\" %(X_pc.shape[1]))\n",
    "    \n",
    "    return X_pc, pca\n",
    "\n",
    "def F_test(percent, feature, label):\n",
    "    Ftest = SelectPercentile(chi2, percent)\n",
    "    X_f = Ftest.fit_transform(feature, label)\n",
    "    print(\"the number of feature dimensions passing F-test is %d.\" %(X_f.shape[1]))\n",
    "\n",
    "    return X_f, Ftest\n",
    "\n",
    "def RandomForest_FeatureSelect(percent, feature, label):\n",
    "    forest = RandomForestClassifier(random_state=0, )\n",
    "    forest.fit(feature, label)\n",
    "    index = np.argsort(forest.feature_importances_*100)\n",
    "    num = (int)((float)(feature.shape[1]*percent)/100)\n",
    "    X_rf = feature[:,index[0:num]]\n",
    "    print(\"the number of feature dimensions passing Random-Forest feature selection is %d.\" %(X_rf.shape[1]))\n",
    "    \n",
    "    return X_rf, forest, index\n",
    "\n",
    "def RandomForest_FeatureSelect_test(percent, feature, index):\n",
    "    num = (int)((float)(feature.shape[1]*percent)/100)\n",
    "    X_rf = feature[:,index[0:num]]\n",
    "    print(\"the number of feature dimensions passing Random-Forest feature selection is %d.\" %(X_rf.shape[1]))\n",
    "    \n",
    "    return X_rf\n",
    "    \n",
    "def SVM_training(feature, label, n_comps, percent):\n",
    "    print('SVM is under training...')\n",
    "    X_f, Ftest = F_test(percent, feature, label)\n",
    "    X_pc, pca = Reduce_Feature(n_comps, X_f)\n",
    "    clf = SVC()\n",
    "    clf.fit(X_pc, label)\n",
    "    y_pred = clf.predict(X_pc)\n",
    "    accuracy = accuracy_score(label, y_pred)\n",
    "    print(\"SVM accuracy on training sample is %f\" %(accuracy))\n",
    "    \n",
    "    return Ftest, pca, clf, accuracy\n",
    "\n",
    "def SVM_training_v2(X_pc, label):\n",
    "    print('SVM is under training...')\n",
    "    clf = SVC()\n",
    "    clf.fit(X_pc, label)\n",
    "    y_pred = clf.predict(X_pc)\n",
    "    accuracy = accuracy_score(label, y_pred)\n",
    "    print(\"SVM accuracy on training sample is %f\" %(accuracy))\n",
    "    \n",
    "    return clf, accuracy\n",
    "\n",
    "def RF_training(feature, label, n_comps, percent):\n",
    "    print('Random Forest is under training...')\n",
    "    X_f, Ftest = F_test(percent, feature, label)\n",
    "    X_pc, pca = Reduce_Feature(n_comps, X_f)\n",
    "    clf = RandomForestClassifier()  \n",
    "    clf.fit(X_pc, label)\n",
    "    y_pred = clf.predict(X_pc)\n",
    "    accuracy = accuracy_score(label, y_pred)\n",
    "    print(\"RF accuracy on training sample is %f\" %(accuracy))\n",
    "    \n",
    "    return Ftest, pca, clf, accuracy\n",
    "\n",
    "def RF_training_v2(X_pc, label):\n",
    "    print('Random Forest is under training...')\n",
    "    clf = RandomForestClassifier()  \n",
    "    clf.fit(X_pc, label)\n",
    "    y_pred = clf.predict(X_pc)\n",
    "    accuracy = accuracy_score(label, y_pred)\n",
    "    print(\"RF accuracy on training sample is %f\" %(accuracy))\n",
    "    \n",
    "    return clf, accuracy\n",
    "\n",
    "def one_stage_testing(cubio, layer, kernel, feature_list, X):\n",
    "    print(\"training at the %dth layer ...\" %(layer))\n",
    "    patches_panel = flatten_patches(cubio)\n",
    "    patches_mean_remov = remove_patches_mean(patches_panel)\n",
    "    cubio_next = relu(pca_transform(kernel, layer, patches_mean_remov, patches_panel, X))\n",
    "    feature_list.append(cubio_next)\n",
    "    print(\"Done! the shape of output cubio is %s.\" %(cubio_next.shape,))\n",
    "    \n",
    "    return cubio_next\n",
    "\n",
    "def one_stage_testing_v2(cubio, layer, kernel, feature_list, X):\n",
    "    print(\"training at the %dth layer ...\" %(layer))\n",
    "    patches_panel = flatten_patches(cubio)\n",
    "    patches_mean_remov = remove_patches_mean(patches_panel)\n",
    "    cubio_next = relu(pca_transform_v2(kernel, layer, patches_mean_remov, patches_panel, X))\n",
    "    feature_list.append(cubio_next)\n",
    "    print(\"Done! the shape of output cubio is %s.\" %(cubio_next.shape,))\n",
    "    \n",
    "    return cubio_next\n",
    "\n",
    "def one_stage_testing_v3(cubio, layer, kernel, feature_list, X):\n",
    "    print(\"training at the %dth layer ...\" %(layer))\n",
    "    patches_panel = flatten_patches(cubio)\n",
    "    patches_mean_remov = remove_patches_mean(patches_panel)\n",
    "    cubio_next = tanh(pca_transform_v2(kernel, layer, patches_mean_remov, patches_panel, X))\n",
    "    feature_list.append(cubio_next)\n",
    "    print(\"Done! the shape of output cubio is %s.\" %(cubio_next.shape,))\n",
    "    \n",
    "    return cubio_next\n",
    "\n",
    "def RF_testing(feature, label, Ftest, pca, clf):\n",
    "    print(\"Test smaples are under Random Forest's testing...\")\n",
    "    feature_test = Ftest.transform(feature)\n",
    "    print(\"the number of feature dimensions passing F-test is %d.\" %(feature_test.shape[1]))\n",
    "    feature_pca = pca.transform(feature_test)\n",
    "    print(\"the number of dimensions kept is %d.\" %(feature_pca.shape[1]))\n",
    "    y_pred = clf.predict(feature_pca)\n",
    "    accuracy = accuracy_score(label, y_pred)     \n",
    "    print(\"RF accuracy on test sample is %f\" %(accuracy))\n",
    "    \n",
    "    return accuracy, y_pred\n",
    "          \n",
    "def SVM_testing(feature, label, Ftest, pca, clf):\n",
    "    print(\"Test smaples are under SVM's testing...\")\n",
    "    feature_test = Ftest.transform(feature)\n",
    "    print(\"the number of feature dimensions passing F-test is %d.\" %(feature_test.shape[1]))\n",
    "    feature_pca = pca.transform(feature_test)\n",
    "    print(\"the number of dimensions kept is %d.\" %(feature_pca.shape[1]))\n",
    "    y_pred = clf.predict(feature_pca)\n",
    "    accuracy = accuracy_score(label, y_pred)     \n",
    "    print(\"SVM accuracy on test sample is %f\" %(accuracy))\n",
    "    \n",
    "    return accuracy, y_pred"
   ]
  },
  {
   "cell_type": "markdown",
   "metadata": {},
   "source": [
    "# Augmented, ncomps controlled"
   ]
  },
  {
   "cell_type": "code",
   "execution_count": 3,
   "metadata": {},
   "outputs": [
    {
     "name": "stdout",
     "output_type": "stream",
     "text": [
      "training at the 1th layer ...\n",
      "Done! the shape of output cubio is (60000, 16, 16, 7).\n",
      "training at the 2th layer ...\n",
      "Done! the shape of output cubio is (60000, 8, 8, 9).\n",
      "training at the 3th layer ...\n",
      "Done! the shape of output cubio is (60000, 4, 4, 15).\n",
      "training at the 4th layer ...\n",
      "Done! the shape of output cubio is (60000, 2, 2, 13).\n",
      "training at the 5th layer ...\n",
      "Done! the shape of output cubio is (60000, 1, 1, 17).\n"
     ]
    }
   ],
   "source": [
    "#prepare training parameters list\n",
    "k = []\n",
    "feature_list = []\n",
    "n_comps = [3, 4, 7, 6, 8]\n",
    "\n",
    "#preprocess input image batch and label batch\n",
    "X_train, y_train_batch = image_set_preprocessing(X_train_raw, y_train_raw, batch_ratio = 1)\n",
    "cubio = copy.deepcopy(X_train)\n",
    "\n",
    "#compute the number of layers\n",
    "layer_cnt = (int)(log(X_train.shape[1])/log(2))\n",
    "\n",
    "#forward training process\n",
    "for layer in range(layer_cnt):\n",
    "    cubio = one_stage_training(cubio, layer+1, n_comps, k, feature_list, X_train)"
   ]
  },
  {
   "cell_type": "code",
   "execution_count": 5,
   "metadata": {},
   "outputs": [
    {
     "name": "stdout",
     "output_type": "stream",
     "text": [
      "the shape of features we get is (60000, 2677).\n",
      "the number of feature dimensions passing F-test is 1338.\n",
      "the number of dimensions kept is 32.\n",
      "the number of dimensions kept is 64.\n",
      "the number of dimensions kept is 128.\n",
      "SVM is under training...\n",
      "SVM accuracy on training sample is 0.995583\n",
      "SVM is under training...\n",
      "SVM accuracy on training sample is 0.993933\n",
      "SVM is under training...\n",
      "SVM accuracy on training sample is 0.989367\n"
     ]
    }
   ],
   "source": [
    "#colloect all the features from all layers\n",
    "features = feature_fusion(feature_list, layer_cnt)\n",
    "\n",
    "#feature selection\n",
    "X_f, Ftest = F_test(50, features, y_train_batch)\n",
    "\n",
    "#feature reduction\n",
    "X_pc_32, pca_32 = Reduce_Feature(32, X_f)\n",
    "X_pc_64, pca_64 = Reduce_Feature(64, X_f)\n",
    "X_pc_128, pca_128 = Reduce_Feature(128, X_f)\n",
    "\n",
    "#SVM training\n",
    "svm_32, accuracy_svm_training_32= SVM_training_v2(X_pc_32, y_train_batch)\n",
    "svm_64, accuracy_svm_training_64= SVM_training_v2(X_pc_64, y_train_batch)\n",
    "svm_128, accuracy_svm_training_128= SVM_training_v2(X_pc_128, y_train_batch)"
   ]
  },
  {
   "cell_type": "code",
   "execution_count": 7,
   "metadata": {},
   "outputs": [
    {
     "name": "stdout",
     "output_type": "stream",
     "text": [
      "Random Forest is under training...\n",
      "RF accuracy on training sample is 0.998667\n",
      "Random Forest is under training...\n",
      "RF accuracy on training sample is 0.999033\n",
      "Random Forest is under training...\n",
      "RF accuracy on training sample is 0.998850\n"
     ]
    }
   ],
   "source": [
    "#Random Forest training\n",
    "rf_32, accuracy_rf_training_32 = RF_training_v2(X_pc_32, y_train_batch)\n",
    "rf_64, accuracy_rf_training_64 = RF_training_v2(X_pc_64, y_train_batch)\n",
    "rf_128, accuracy_rf_training_128 = RF_training_v2(X_pc_128, y_train_batch)"
   ]
  },
  {
   "cell_type": "code",
   "execution_count": 9,
   "metadata": {},
   "outputs": [
    {
     "name": "stdout",
     "output_type": "stream",
     "text": [
      "training at the 1th layer ...\n",
      "Done! the shape of output cubio is (10000, 16, 16, 7).\n",
      "training at the 2th layer ...\n",
      "Done! the shape of output cubio is (10000, 8, 8, 9).\n",
      "training at the 3th layer ...\n",
      "Done! the shape of output cubio is (10000, 4, 4, 15).\n",
      "training at the 4th layer ...\n",
      "Done! the shape of output cubio is (10000, 2, 2, 13).\n",
      "training at the 5th layer ...\n",
      "Done! the shape of output cubio is (10000, 1, 1, 17).\n",
      "the shape of features we get is (10000, 2677).\n",
      "Test smaples are under SVM's testing...\n",
      "the number of feature dimensions passing F-test is 1338.\n",
      "the number of dimensions kept is 32.\n",
      "SVM accuracy on test sample is 0.981400\n",
      "Test smaples are under SVM's testing...\n",
      "the number of feature dimensions passing F-test is 1338.\n",
      "the number of dimensions kept is 64.\n",
      "SVM accuracy on test sample is 0.983500\n",
      "Test smaples are under SVM's testing...\n",
      "the number of feature dimensions passing F-test is 1338.\n",
      "the number of dimensions kept is 128.\n",
      "SVM accuracy on test sample is 0.981200\n",
      "Test smaples are under Random Forest's testing...\n",
      "the number of feature dimensions passing F-test is 1338.\n",
      "the number of dimensions kept is 32.\n",
      "RF accuracy on test sample is 0.927500\n",
      "Test smaples are under Random Forest's testing...\n",
      "the number of feature dimensions passing F-test is 1338.\n",
      "the number of dimensions kept is 64.\n",
      "RF accuracy on test sample is 0.923100\n",
      "Test smaples are under Random Forest's testing...\n",
      "the number of feature dimensions passing F-test is 1338.\n",
      "the number of dimensions kept is 128.\n",
      "RF accuracy on test sample is 0.905600\n"
     ]
    }
   ],
   "source": [
    "#preprocess testing image batch and label batch \n",
    "X_test, y_test_batch = image_set_preprocessing(X_test_raw, y_test_raw, batch_ratio = 1)\n",
    "\n",
    "#prepare testing parameters list\n",
    "feature_list_test = []\n",
    "\n",
    "#forward testing process\n",
    "cubio_test = copy.deepcopy(X_test)\n",
    "for layer in range(layer_cnt):\n",
    "    cubio_test = one_stage_testing(cubio_test, layer+1, k, feature_list_test, X_test)\n",
    "\n",
    "#colloect all the features from all layers\n",
    "features_test = feature_fusion(feature_list_test, layer_cnt)\n",
    "\n",
    "#F-test --> PCA reducing dims --> SVM testing\n",
    "accuracy_svm_testing_32, y_pred_svm_32 = SVM_testing(features_test, y_test_batch, Ftest, pca_32, svm_32)\n",
    "accuracy_svm_testing_64, y_pred_svm_64 = SVM_testing(features_test, y_test_batch, Ftest, pca_64, svm_64)\n",
    "accuracy_svm_testing_128, y_pred_svm_128 = SVM_testing(features_test, y_test_batch, Ftest, pca_128, svm_128)\n",
    "\n",
    "#F-test --> PCA reducing dims --> RF testing\n",
    "accuracy_rf_testing_32, y_pred_rf_32 = RF_testing(features_test, y_test_batch, Ftest, pca_32, rf_32)\n",
    "accuracy_rf_testing_64, y_pred_rf_64 = RF_testing(features_test, y_test_batch, Ftest, pca_64, rf_64)\n",
    "accuracy_rf_testing_128, y_pred_rf_128 = RF_testing(features_test, y_test_batch, Ftest, pca_128, rf_128)"
   ]
  },
  {
   "cell_type": "code",
   "execution_count": 17,
   "metadata": {},
   "outputs": [
    {
     "name": "stdout",
     "output_type": "stream",
     "text": [
      "training at the 1th layer ...\n",
      "Done! the shape of output cubio is (10000, 16, 16, 7).\n",
      "training at the 2th layer ...\n",
      "Done! the shape of output cubio is (10000, 8, 8, 9).\n",
      "training at the 3th layer ...\n",
      "Done! the shape of output cubio is (10000, 4, 4, 15).\n",
      "training at the 4th layer ...\n",
      "Done! the shape of output cubio is (10000, 2, 2, 13).\n",
      "training at the 5th layer ...\n",
      "Done! the shape of output cubio is (10000, 1, 1, 17).\n",
      "the shape of features we get is (10000, 2677).\n",
      "Test smaples are under SVM's testing...\n",
      "the number of feature dimensions passing F-test is 1338.\n",
      "the number of dimensions kept is 64.\n",
      "SVM accuracy on test sample is 0.983500\n",
      "[7 2 1 ... 4 5 6]\n",
      "[7 2 1 ... 4 5 6]\n",
      "[[ 973    0    1    0    0    2    1    1    2    0]\n",
      " [   0 1129    3    0    0    1    0    0    1    1]\n",
      " [   5    0 1013    1    1    0    1    7    4    0]\n",
      " [   0    0    2  996    1    3    0    4    3    1]\n",
      " [   0    0    3    0  963    0    4    0    1   11]\n",
      " [   2    0    0    8    1  873    2    1    3    2]\n",
      " [   5    2    0    0    2    3  945    0    1    0]\n",
      " [   0    4    7    0    1    0    0 1008    0    8]\n",
      " [   3    0    1    4    2    1    1    2  957    3]\n",
      " [   2    4    0    7    9    2    1    4    2  978]]\n",
      "             precision    recall  f1-score   support\n",
      "\n",
      "          0     0.9828    0.9929    0.9878       980\n",
      "          1     0.9912    0.9947    0.9930      1135\n",
      "          2     0.9835    0.9816    0.9825      1032\n",
      "          3     0.9803    0.9861    0.9832      1010\n",
      "          4     0.9827    0.9807    0.9817       982\n",
      "          5     0.9864    0.9787    0.9826       892\n",
      "          6     0.9895    0.9864    0.9880       958\n",
      "          7     0.9815    0.9805    0.9810      1028\n",
      "          8     0.9825    0.9825    0.9825       974\n",
      "          9     0.9741    0.9693    0.9717      1009\n",
      "\n",
      "avg / total     0.9835    0.9835    0.9835     10000\n",
      "\n"
     ]
    }
   ],
   "source": [
    "#preprocess testing image batch and label batch \n",
    "X_test, y_test_batch = image_set_preprocessing(X_test_raw, y_test_raw, batch_ratio = 1)\n",
    "\n",
    "#prepare testing parameters list\n",
    "feature_list_test = []\n",
    "\n",
    "#forward testing process\n",
    "cubio_test = copy.deepcopy(X_test)\n",
    "for layer in range(layer_cnt):\n",
    "    cubio_test = one_stage_testing(cubio_test, layer+1, k, feature_list_test, X_test)\n",
    "\n",
    "#colloect all the features from all layers\n",
    "features_test = feature_fusion(feature_list_test, layer_cnt)\n",
    "\n",
    "#F-test --> PCA reducing dims --> SVM testing\n",
    "accuracy_svm_testing_64, y_pred_svm_64 = SVM_testing(features_test, y_test_batch, Ftest, pca_64, svm_64)\n",
    "\n",
    "print(y_pred_svm_64)\n",
    "print(y_test_batch)\n",
    "\n",
    "from sklearn.metrics import confusion_matrix\n",
    "cm = confusion_matrix(y_test_batch, y_pred_svm_64, labels = [0,1,2,3,4,5,6,7,8,9])\n",
    "\n",
    "from sklearn.metrics import classification_report\n",
    "rp = classification_report(y_test_batch, y_pred_svm_64, digits = 4)\n",
    "\n",
    "print(cm)\n",
    "print(rp)"
   ]
  },
  {
   "cell_type": "code",
   "execution_count": 32,
   "metadata": {},
   "outputs": [],
   "source": [
    "index = np.array([ 321,  447,  659,  740,  882,  947, 1014, 1112, 1232, 1242, 1247,\n",
    "       1527, 1709, 1790, 1878, 1901, 2018, 2129, 2130, 2135, 2182, 2266,\n",
    "       2293, 2597, 2654, 2896, 2939, 3073, 3225, 3422, 3534, 3558, 3727,\n",
    "       3941, 4176, 4201, 4284, 4443, 4507, 4571, 4699, 4740, 4761, 4783,\n",
    "       4860, 4879, 5937, 5955, 6576, 6597, 6625, 6651, 7216, 8246, 8527,\n",
    "       9642, 9664, 9692, 9729])\n",
    "y_diff = y_pred_svm_64-y_test_batch\n",
    "index_2 = y_diff.nonzero()"
   ]
  },
  {
   "cell_type": "code",
   "execution_count": 55,
   "metadata": {},
   "outputs": [
    {
     "data": {
      "text/plain": [
       "(array([ 151,  247,  321,  340,  381,  445,  447,  448,  449,  495,  582,\n",
       "         659,  689,  691,  707,  740,  882,  947,  951,  956,  965, 1014,\n",
       "        1039, 1044, 1112, 1192, 1226, 1232, 1242, 1247, 1260, 1299, 1319,\n",
       "        1328, 1393, 1494, 1500, 1522, 1530, 1549, 1553, 1581, 1609, 1681,\n",
       "        1709, 1790, 1901, 2024, 2044, 2070, 2098, 2109, 2118, 2130, 2135,\n",
       "        2182, 2185, 2189, 2224, 2272, 2293, 2299, 2371, 2387, 2406, 2414,\n",
       "        2422, 2462, 2488, 2597, 2607, 2648, 2654, 2771, 2810, 2863, 2896,\n",
       "        2927, 2939, 2953, 3060, 3073, 3117, 3405, 3422, 3475, 3503, 3520,\n",
       "        3558, 3559, 3597, 3751, 3767, 3776, 3780, 3796, 3808, 3811, 3853,\n",
       "        3902, 3941, 3985, 4065, 4075, 4078, 4163, 4176, 4201, 4224, 4248,\n",
       "        4271, 4289, 4306, 4497, 4500, 4575, 4740, 4807, 4823, 4879, 4880,\n",
       "        4966, 5457, 5642, 5734, 5936, 5937, 5955, 5973, 5985, 5997, 6035,\n",
       "        6059, 6166, 6555, 6560, 6571, 6576, 6597, 6598, 6625, 6651, 6755,\n",
       "        7434, 8094, 8325, 8339, 8527, 9009, 9015, 9024, 9587, 9634, 9664,\n",
       "        9679, 9698, 9729, 9745, 9749, 9768, 9770, 9779, 9792, 9808, 9944]),)"
      ]
     },
     "execution_count": 55,
     "metadata": {},
     "output_type": "execute_result"
    }
   ],
   "source": [
    "index_2"
   ]
  },
  {
   "cell_type": "code",
   "execution_count": 63,
   "metadata": {},
   "outputs": [
    {
     "data": {
      "text/plain": [
       "(1, 165)"
      ]
     },
     "execution_count": 63,
     "metadata": {},
     "output_type": "execute_result"
    }
   ],
   "source": [
    "#print(len(np.setdiff1d(index, index_2)))\n",
    "#print(len(np.setdiff1d(index_2, index)))\n",
    "#print(len(index))\n",
    "index_2 = np.array(index_2)\n",
    "index_2.shape"
   ]
  },
  {
   "cell_type": "markdown",
   "metadata": {},
   "source": [
    "# without augmented, without comps controlled"
   ]
  },
  {
   "cell_type": "code",
   "execution_count": 732,
   "metadata": {},
   "outputs": [
    {
     "name": "stdout",
     "output_type": "stream",
     "text": [
      "training at the 1th layer ...\n",
      "Done! the shape of output cubio is (60000, 16, 16, 5).\n",
      "training at the 2th layer ...\n",
      "Done! the shape of output cubio is (60000, 8, 8, 21).\n",
      "training at the 3th layer ...\n",
      "Done! the shape of output cubio is (60000, 4, 4, 85).\n",
      "training at the 4th layer ...\n",
      "Done! the shape of output cubio is (60000, 2, 2, 341).\n",
      "training at the 5th layer ...\n",
      "Done! the shape of output cubio is (60000, 1, 1, 1365).\n"
     ]
    }
   ],
   "source": [
    "#prepare training parameters list\n",
    "k = []\n",
    "feature_list = []\n",
    "\n",
    "#preprocess input image batch and label batch\n",
    "X_train, y_train_batch = image_set_preprocessing(X_train_raw, y_train_raw, batch_ratio = 1)\n",
    "cubio = copy.deepcopy(X_train)\n",
    "\n",
    "#compute the number of layers\n",
    "layer_cnt = (int)(log(X_train.shape[1])/log(2))\n",
    "\n",
    "#forward training process\n",
    "for layer in range(layer_cnt):\n",
    "    cubio = one_stage_training_v2(cubio, layer+1, k, feature_list, X_train)"
   ]
  },
  {
   "cell_type": "code",
   "execution_count": 738,
   "metadata": {},
   "outputs": [
    {
     "data": {
      "text/plain": [
       "<matplotlib.image.AxesImage at 0x1a16ef2da0>"
      ]
     },
     "execution_count": 738,
     "metadata": {},
     "output_type": "execute_result"
    },
    {
     "data": {
      "image/png": "[encoded data removed]",
      "text/plain": [
       "<Figure size 432x288 with 1 Axes>"
      ]
     },
     "metadata": {},
     "output_type": "display_data"
    }
   ],
   "source": [
    "plt.imshow(feature_list[0][0,:,:,4])"
   ]
  },
  {
   "cell_type": "code",
   "execution_count": 736,
   "metadata": {},
   "outputs": [
    {
     "data": {
      "text/plain": [
       "<matplotlib.image.AxesImage at 0x1a15a9b470>"
      ]
     },
     "execution_count": 736,
     "metadata": {},
     "output_type": "execute_result"
    },
    {
     "data": {
      "image/png": "[encoded data removed]",
      "text/plain": [
       "<Figure size 432x288 with 1 Axes>"
      ]
     },
     "metadata": {},
     "output_type": "display_data"
    }
   ],
   "source": [
    "plt.imshow(X_train[0,:,:,0])"
   ]
  },
  {
   "cell_type": "code",
   "execution_count": 740,
   "metadata": {},
   "outputs": [
    {
     "data": {
      "text/plain": [
       "(60000, 2677)"
      ]
     },
     "execution_count": 740,
     "metadata": {},
     "output_type": "execute_result"
    }
   ],
   "source": [
    "features.shape"
   ]
  },
  {
   "cell_type": "markdown",
   "metadata": {},
   "source": [
    "## only use the final layer output features"
   ]
  },
  {
   "cell_type": "code",
   "execution_count": 741,
   "metadata": {},
   "outputs": [
    {
     "name": "stdout",
     "output_type": "stream",
     "text": [
      "SVM is under training...\n",
      "the number of feature dimensions passing F-test is 682.\n",
      "the number of dimensions kept is 32.\n",
      "SVM accuracy on training sample is 0.787700\n",
      "SVM is under training...\n",
      "the number of feature dimensions passing F-test is 682.\n",
      "the number of dimensions kept is 64.\n",
      "SVM accuracy on training sample is 0.821700\n",
      "SVM is under training...\n",
      "the number of feature dimensions passing F-test is 682.\n",
      "the number of dimensions kept is 128.\n",
      "SVM accuracy on training sample is 0.818467\n",
      "Random Forest is under training...\n",
      "the number of feature dimensions passing F-test is 682.\n",
      "the number of dimensions kept is 32.\n",
      "RF accuracy on training sample is 0.996767\n",
      "Random Forest is under training...\n",
      "the number of feature dimensions passing F-test is 682.\n",
      "the number of dimensions kept is 64.\n",
      "RF accuracy on training sample is 0.997283\n",
      "Random Forest is under training...\n",
      "the number of feature dimensions passing F-test is 682.\n",
      "the number of dimensions kept is 128.\n",
      "RF accuracy on training sample is 0.997667\n"
     ]
    }
   ],
   "source": [
    "features = cubio.squeeze()\n",
    "#F-test --> PCA reducing dims --> SVM training\n",
    "Ftest, pca_32, svm_32, accuracy_svm_training_32= SVM_training(features, y_train_batch, 32, 50)\n",
    "Ftest, pca_64, svm_64, accuracy_svm_training_64= SVM_training(features, y_train_batch, 64, 50)\n",
    "Ftest, pca_128, svm_128, accuracy_svm_training_128= SVM_training(features, y_train_batch, 128, 50)\n",
    "\n",
    "#F-test --> PCA reducing dims --> RF training\n",
    "Ftest, pca_32, rf_32, accuracy_rf_training_32 = RF_training(features, y_train_batch, 32, 50)\n",
    "Ftest, pca_64, rf_64, accuracy_rf_training_64 = RF_training(features, y_train_batch, 64, 50)\n",
    "Ftest, pca_128, rf_128, accuracy_rf_training_128 = RF_training(features, y_train_batch, 128, 50)"
   ]
  },
  {
   "cell_type": "code",
   "execution_count": 747,
   "metadata": {},
   "outputs": [
    {
     "name": "stdout",
     "output_type": "stream",
     "text": [
      "training at the 1th layer ...\n",
      "Done! the shape of output cubio is (10000, 16, 16, 5).\n",
      "training at the 2th layer ...\n",
      "Done! the shape of output cubio is (10000, 8, 8, 21).\n",
      "training at the 3th layer ...\n",
      "Done! the shape of output cubio is (10000, 4, 4, 85).\n",
      "training at the 4th layer ...\n",
      "Done! the shape of output cubio is (10000, 2, 2, 341).\n",
      "training at the 5th layer ...\n",
      "Done! the shape of output cubio is (10000, 1, 1, 1365).\n",
      "Test smaples are under SVM's testing...\n",
      "the number of feature dimensions passing F-test is 682.\n",
      "the number of dimensions kept is 32.\n",
      "SVM accuracy on test sample is 0.790900\n",
      "Test smaples are under SVM's testing...\n",
      "the number of feature dimensions passing F-test is 682.\n",
      "the number of dimensions kept is 64.\n",
      "SVM accuracy on test sample is 0.815500\n",
      "Test smaples are under SVM's testing...\n",
      "the number of feature dimensions passing F-test is 682.\n",
      "the number of dimensions kept is 128.\n",
      "SVM accuracy on test sample is 0.816800\n",
      "Test smaples are under Random Forest's testing...\n",
      "the number of feature dimensions passing F-test is 682.\n",
      "the number of dimensions kept is 32.\n",
      "RF accuracy on test sample is 0.809100\n",
      "Test smaples are under Random Forest's testing...\n",
      "the number of feature dimensions passing F-test is 682.\n",
      "the number of dimensions kept is 64.\n",
      "RF accuracy on test sample is 0.803400\n",
      "Test smaples are under Random Forest's testing...\n",
      "the number of feature dimensions passing F-test is 682.\n",
      "the number of dimensions kept is 128.\n",
      "RF accuracy on test sample is 0.784100\n"
     ]
    }
   ],
   "source": [
    "#preprocess testing image batch and label batch \n",
    "X_test, y_test_batch = image_set_preprocessing(X_test_raw, y_test_raw, batch_ratio = 1)\n",
    "\n",
    "#prepare testing parameters list\n",
    "feature_list_test = []\n",
    "\n",
    "#forward testing process\n",
    "cubio_test = copy.deepcopy(X_test)\n",
    "for layer in range(layer_cnt):\n",
    "    cubio_test = one_stage_testing_v2(cubio_test, layer+1, k, feature_list_test, X_test)\n",
    "\n",
    "features_test = cubio_test.squeeze()\n",
    "\n",
    "#F-test --> PCA reducing dims --> SVM testing\n",
    "accuracy_svm_testing_32= SVM_testing(features_test, y_test_batch, Ftest, pca_32, svm_32)\n",
    "accuracy_svm_testing_64= SVM_testing(features_test, y_test_batch, Ftest, pca_64, svm_64)\n",
    "accuracy_svm_testing_128= SVM_testing(features_test, y_test_batch, Ftest, pca_128, svm_128)\n",
    "\n",
    "#F-test --> PCA reducing dims --> RF testing\n",
    "accuracy_rf_testing_32 = RF_testing(features_test, y_test_batch, Ftest, pca_32, rf_32)\n",
    "accuracy_rf_testing_64 = RF_testing(features_test, y_test_batch, Ftest, pca_64, rf_64)\n",
    "accuracy_rf_testing_128 = RF_testing(features_test, y_test_batch, Ftest, pca_128, rf_128)"
   ]
  },
  {
   "cell_type": "markdown",
   "metadata": {},
   "source": [
    "## using features from all the layers"
   ]
  },
  {
   "cell_type": "code",
   "execution_count": 748,
   "metadata": {},
   "outputs": [
    {
     "name": "stdout",
     "output_type": "stream",
     "text": [
      "the shape of features we get is (60000, 6713).\n",
      "SVM is under training...\n",
      "the number of feature dimensions passing F-test is 3356.\n",
      "the number of dimensions kept is 32.\n",
      "SVM accuracy on training sample is 0.994133\n",
      "SVM is under training...\n",
      "the number of feature dimensions passing F-test is 3356.\n",
      "the number of dimensions kept is 64.\n",
      "SVM accuracy on training sample is 0.991683\n",
      "SVM is under training...\n",
      "the number of feature dimensions passing F-test is 3356.\n",
      "the number of dimensions kept is 128.\n",
      "SVM accuracy on training sample is 0.986333\n",
      "Random Forest is under training...\n",
      "the number of feature dimensions passing F-test is 3356.\n",
      "the number of dimensions kept is 32.\n",
      "RF accuracy on training sample is 0.998767\n",
      "Random Forest is under training...\n",
      "the number of feature dimensions passing F-test is 3356.\n",
      "the number of dimensions kept is 64.\n",
      "RF accuracy on training sample is 0.999017\n",
      "Random Forest is under training...\n",
      "the number of feature dimensions passing F-test is 3356.\n",
      "the number of dimensions kept is 128.\n",
      "RF accuracy on training sample is 0.999233\n"
     ]
    }
   ],
   "source": [
    "#colloect all the features from all layers\n",
    "features = feature_fusion(feature_list, layer_cnt)\n",
    "\n",
    "#F-test --> PCA reducing dims --> SVM training\n",
    "Ftest, pca_32, svm_32, accuracy_svm_training_32= SVM_training(features, y_train_batch, 32, 50)\n",
    "Ftest, pca_64, svm_64, accuracy_svm_training_64= SVM_training(features, y_train_batch, 64, 50)\n",
    "Ftest, pca_128, svm_128, accuracy_svm_training_128= SVM_training(features, y_train_batch, 128, 50)\n",
    "\n",
    "#F-test --> PCA reducing dims --> RF training\n",
    "Ftest, pca_32, rf_32, accuracy_rf_training_32 = RF_training(features, y_train_batch, 32, 50)\n",
    "Ftest, pca_64, rf_64, accuracy_rf_training_64 = RF_training(features, y_train_batch, 64, 50)\n",
    "Ftest, pca_128, rf_128, accuracy_rf_training_128 = RF_training(features, y_train_batch, 128, 50)"
   ]
  },
  {
   "cell_type": "code",
   "execution_count": 749,
   "metadata": {},
   "outputs": [
    {
     "name": "stdout",
     "output_type": "stream",
     "text": [
      "the shape of features we get is (10000, 6713).\n",
      "Test smaples are under SVM's testing...\n",
      "the number of feature dimensions passing F-test is 3356.\n",
      "the number of dimensions kept is 32.\n",
      "SVM accuracy on test sample is 0.981500\n",
      "Test smaples are under SVM's testing...\n",
      "the number of feature dimensions passing F-test is 3356.\n",
      "the number of dimensions kept is 64.\n",
      "SVM accuracy on test sample is 0.981200\n",
      "Test smaples are under SVM's testing...\n",
      "the number of feature dimensions passing F-test is 3356.\n",
      "the number of dimensions kept is 128.\n",
      "SVM accuracy on test sample is 0.978700\n",
      "Test smaples are under Random Forest's testing...\n",
      "the number of feature dimensions passing F-test is 3356.\n",
      "the number of dimensions kept is 32.\n",
      "RF accuracy on test sample is 0.925500\n",
      "Test smaples are under Random Forest's testing...\n",
      "the number of feature dimensions passing F-test is 3356.\n",
      "the number of dimensions kept is 64.\n",
      "RF accuracy on test sample is 0.922500\n",
      "Test smaples are under Random Forest's testing...\n",
      "the number of feature dimensions passing F-test is 3356.\n",
      "the number of dimensions kept is 128.\n",
      "RF accuracy on test sample is 0.903100\n"
     ]
    }
   ],
   "source": [
    "#colloect all the features from all layers\n",
    "features_test = feature_fusion(feature_list_test, layer_cnt)\n",
    "\n",
    "#F-test --> PCA reducing dims --> SVM testing\n",
    "accuracy_svm_testing_32= SVM_testing(features_test, y_test_batch, Ftest, pca_32, svm_32)\n",
    "accuracy_svm_testing_64= SVM_testing(features_test, y_test_batch, Ftest, pca_64, svm_64)\n",
    "accuracy_svm_testing_128= SVM_testing(features_test, y_test_batch, Ftest, pca_128, svm_128)\n",
    "\n",
    "#F-test --> PCA reducing dims --> RF testing\n",
    "accuracy_rf_testing_32 = RF_testing(features_test, y_test_batch, Ftest, pca_32, rf_32)\n",
    "accuracy_rf_testing_64 = RF_testing(features_test, y_test_batch, Ftest, pca_64, rf_64)\n",
    "accuracy_rf_testing_128 = RF_testing(features_test, y_test_batch, Ftest, pca_128, rf_128)"
   ]
  },
  {
   "cell_type": "markdown",
   "metadata": {},
   "source": [
    "# Add Noise to training images, without augments"
   ]
  },
  {
   "cell_type": "code",
   "execution_count": 767,
   "metadata": {},
   "outputs": [
    {
     "name": "stdout",
     "output_type": "stream",
     "text": [
      "training at the 1th layer ...\n",
      "Done! the shape of output cubio is (60000, 16, 16, 5).\n",
      "training at the 2th layer ...\n",
      "Done! the shape of output cubio is (60000, 8, 8, 21).\n",
      "training at the 3th layer ...\n",
      "Done! the shape of output cubio is (60000, 4, 4, 85).\n",
      "training at the 4th layer ...\n",
      "Done! the shape of output cubio is (60000, 2, 2, 341).\n",
      "training at the 5th layer ...\n",
      "Done! the shape of output cubio is (60000, 1, 1, 1365).\n"
     ]
    }
   ],
   "source": [
    "#prepare training parameters list\n",
    "k = []\n",
    "feature_list = []\n",
    "n_comps = [3, 4, 7, 6, 8]\n",
    "\n",
    "#preprocess input image batch and label batch\n",
    "X_train, y_train_batch = image_set_preprocessing_v2(X_train_raw, y_train_raw, batch_ratio = 1)\n",
    "cubio = copy.deepcopy(X_train)\n",
    "\n",
    "#compute the number of layers\n",
    "layer_cnt = (int)(log(X_train.shape[1])/log(2))\n",
    "\n",
    "#forward training process\n",
    "for layer in range(layer_cnt):\n",
    "    cubio = one_stage_training_v2(cubio, layer+1, k, feature_list, X_train)"
   ]
  },
  {
   "cell_type": "code",
   "execution_count": 768,
   "metadata": {},
   "outputs": [
    {
     "name": "stdout",
     "output_type": "stream",
     "text": [
      "the shape of features we get is (60000, 6713).\n",
      "SVM is under training...\n",
      "the number of feature dimensions passing F-test is 3356.\n",
      "the number of dimensions kept is 32.\n",
      "SVM accuracy on training sample is 0.992817\n",
      "SVM is under training...\n",
      "the number of feature dimensions passing F-test is 3356.\n",
      "the number of dimensions kept is 64.\n",
      "SVM accuracy on training sample is 0.990100\n",
      "SVM is under training...\n",
      "the number of feature dimensions passing F-test is 3356.\n",
      "the number of dimensions kept is 128.\n",
      "SVM accuracy on training sample is 0.983633\n",
      "Random Forest is under training...\n",
      "the number of feature dimensions passing F-test is 3356.\n",
      "the number of dimensions kept is 32.\n",
      "RF accuracy on training sample is 0.998883\n",
      "Random Forest is under training...\n",
      "the number of feature dimensions passing F-test is 3356.\n",
      "the number of dimensions kept is 64.\n",
      "RF accuracy on training sample is 0.998817\n",
      "Random Forest is under training...\n",
      "the number of feature dimensions passing F-test is 3356.\n",
      "the number of dimensions kept is 128.\n",
      "RF accuracy on training sample is 0.999233\n"
     ]
    }
   ],
   "source": [
    "#colloect all the features from all layers\n",
    "features = feature_fusion(feature_list, layer_cnt)\n",
    "\n",
    "#F-test --> PCA reducing dims --> SVM training\n",
    "Ftest, pca_32, svm_32, accuracy_svm_training_32= SVM_training(features, y_train_batch, 32, 50)\n",
    "Ftest, pca_64, svm_64, accuracy_svm_training_64= SVM_training(features, y_train_batch, 64, 50)\n",
    "Ftest, pca_128, svm_128, accuracy_svm_training_128= SVM_training(features, y_train_batch, 128, 50)\n",
    "\n",
    "#F-test --> PCA reducing dims --> RF training\n",
    "Ftest, pca_32, rf_32, accuracy_rf_training_32 = RF_training(features, y_train_batch, 32, 50)\n",
    "Ftest, pca_64, rf_64, accuracy_rf_training_64 = RF_training(features, y_train_batch, 64, 50)\n",
    "Ftest, pca_128, rf_128, accuracy_rf_training_128 = RF_training(features, y_train_batch, 128, 50)"
   ]
  },
  {
   "cell_type": "code",
   "execution_count": 771,
   "metadata": {},
   "outputs": [
    {
     "name": "stdout",
     "output_type": "stream",
     "text": [
      "training at the 1th layer ...\n",
      "Done! the shape of output cubio is (10000, 16, 16, 5).\n",
      "training at the 2th layer ...\n",
      "Done! the shape of output cubio is (10000, 8, 8, 21).\n",
      "training at the 3th layer ...\n",
      "Done! the shape of output cubio is (10000, 4, 4, 85).\n",
      "training at the 4th layer ...\n",
      "Done! the shape of output cubio is (10000, 2, 2, 341).\n",
      "training at the 5th layer ...\n",
      "Done! the shape of output cubio is (10000, 1, 1, 1365).\n",
      "the shape of features we get is (10000, 6713).\n",
      "Test smaples are under SVM's testing...\n",
      "the number of feature dimensions passing F-test is 3356.\n",
      "the number of dimensions kept is 32.\n",
      "SVM accuracy on test sample is 0.980100\n",
      "Test smaples are under SVM's testing...\n",
      "the number of feature dimensions passing F-test is 3356.\n",
      "the number of dimensions kept is 64.\n",
      "SVM accuracy on test sample is 0.980200\n",
      "Test smaples are under SVM's testing...\n",
      "the number of feature dimensions passing F-test is 3356.\n",
      "the number of dimensions kept is 128.\n",
      "SVM accuracy on test sample is 0.975600\n",
      "Test smaples are under Random Forest's testing...\n",
      "the number of feature dimensions passing F-test is 3356.\n",
      "the number of dimensions kept is 32.\n",
      "RF accuracy on test sample is 0.924800\n",
      "Test smaples are under Random Forest's testing...\n",
      "the number of feature dimensions passing F-test is 3356.\n",
      "the number of dimensions kept is 64.\n",
      "RF accuracy on test sample is 0.914400\n",
      "Test smaples are under Random Forest's testing...\n",
      "the number of feature dimensions passing F-test is 3356.\n",
      "the number of dimensions kept is 128.\n",
      "RF accuracy on test sample is 0.892400\n"
     ]
    }
   ],
   "source": [
    "#preprocess testing image batch and label batch \n",
    "X_test, y_test_batch = image_set_preprocessing(X_test_raw, y_test_raw, batch_ratio = 1)\n",
    "\n",
    "#prepare testing parameters list\n",
    "feature_list_test = []\n",
    "\n",
    "#forward testing process\n",
    "cubio_test = copy.deepcopy(X_test)\n",
    "for layer in range(layer_cnt):\n",
    "    cubio_test = one_stage_testing_v2(cubio_test, layer+1, k, feature_list_test, X_test)\n",
    "\n",
    "#colloect all the features from all layers\n",
    "features_test = feature_fusion(feature_list_test, layer_cnt)\n",
    "\n",
    "#F-test --> PCA reducing dims --> SVM testing\n",
    "accuracy_svm_testing_32= SVM_testing(features_test, y_test_batch, Ftest, pca_32, svm_32)\n",
    "accuracy_svm_testing_64= SVM_testing(features_test, y_test_batch, Ftest, pca_64, svm_64)\n",
    "accuracy_svm_testing_128= SVM_testing(features_test, y_test_batch, Ftest, pca_128, svm_128)\n",
    "\n",
    "#F-test --> PCA reducing dims --> RF testing\n",
    "accuracy_rf_testing_32 = RF_testing(features_test, y_test_batch, Ftest, pca_32, rf_32)\n",
    "accuracy_rf_testing_64 = RF_testing(features_test, y_test_batch, Ftest, pca_64, rf_64)\n",
    "accuracy_rf_testing_128 = RF_testing(features_test, y_test_batch, Ftest, pca_128, rf_128)"
   ]
  },
  {
   "cell_type": "markdown",
   "metadata": {},
   "source": [
    "# Using Sigmoid as the activation function"
   ]
  },
  {
   "cell_type": "code",
   "execution_count": 6,
   "metadata": {},
   "outputs": [
    {
     "name": "stdout",
     "output_type": "stream",
     "text": [
      "training at the 1th layer ...\n",
      "Done! the shape of output cubio is (60000, 16, 16, 4).\n",
      "training at the 2th layer ...\n",
      "Done! the shape of output cubio is (60000, 8, 8, 5).\n",
      "training at the 3th layer ...\n",
      "Done! the shape of output cubio is (60000, 4, 4, 8).\n",
      "training at the 4th layer ...\n",
      "Done! the shape of output cubio is (60000, 2, 2, 7).\n",
      "training at the 5th layer ...\n",
      "Done! the shape of output cubio is (60000, 1, 1, 9).\n"
     ]
    }
   ],
   "source": [
    "#prepare training parameters list\n",
    "k = []\n",
    "feature_list = []\n",
    "n_comps = [3, 4, 7, 6, 8]\n",
    "\n",
    "#preprocess input image batch and label batch\n",
    "X_train, y_train_batch = image_set_preprocessing_v2(X_train_raw, y_train_raw, batch_ratio = 1)\n",
    "cubio = copy.deepcopy(X_train)\n",
    "\n",
    "#compute the number of layers\n",
    "layer_cnt = (int)(log(X_train.shape[1])/log(2))\n",
    "\n",
    "#forward training process\n",
    "for layer in range(layer_cnt):\n",
    "    cubio = one_stage_training_v3(cubio, layer+1, k, feature_list, X_train)"
   ]
  },
  {
   "cell_type": "code",
   "execution_count": 9,
   "metadata": {},
   "outputs": [
    {
     "name": "stdout",
     "output_type": "stream",
     "text": [
      "the shape of features we get is (60000, 1509).\n"
     ]
    }
   ],
   "source": [
    "#colloect all the features from all layers\n",
    "features = feature_fusion(feature_list, layer_cnt)"
   ]
  },
  {
   "cell_type": "code",
   "execution_count": 17,
   "metadata": {},
   "outputs": [
    {
     "name": "stdout",
     "output_type": "stream",
     "text": [
      "the number of feature dimensions passing F-test is 754.\n",
      "the number of dimensions kept is 32.\n",
      "the number of dimensions kept is 64.\n",
      "the number of dimensions kept is 128.\n"
     ]
    }
   ],
   "source": [
    "X_f, Ftest = F_test(50, features, y_train_batch)\n",
    "X_pc_32, pca_32 = Reduce_Feature(32, X_f)\n",
    "X_pc_64, pca_64 = Reduce_Feature(64, X_f)\n",
    "X_pc_128, pca_128 = Reduce_Feature(128, X_f)"
   ]
  },
  {
   "cell_type": "code",
   "execution_count": 18,
   "metadata": {},
   "outputs": [
    {
     "name": "stdout",
     "output_type": "stream",
     "text": [
      "SVM is under training...\n",
      "SVM accuracy on training sample is 0.924683\n",
      "SVM is under training...\n",
      "SVM accuracy on training sample is 0.926883\n",
      "SVM is under training...\n",
      "SVM accuracy on training sample is 0.921017\n"
     ]
    }
   ],
   "source": [
    "#F-test --> PCA reducing dims --> SVM training\n",
    "svm_32, accuracy_svm_training_32= SVM_training_v2(X_pc_32, y_train_batch)\n",
    "svm_64, accuracy_svm_training_64= SVM_training_v2(X_pc_64, y_train_batch)\n",
    "svm_128, accuracy_svm_training_128= SVM_training_v2(X_pc_128, y_train_batch)"
   ]
  },
  {
   "cell_type": "code",
   "execution_count": 19,
   "metadata": {},
   "outputs": [
    {
     "name": "stdout",
     "output_type": "stream",
     "text": [
      "training at the 1th layer ...\n",
      "Done! the shape of output cubio is (10000, 16, 16, 4).\n",
      "training at the 2th layer ...\n",
      "Done! the shape of output cubio is (10000, 8, 8, 5).\n",
      "training at the 3th layer ...\n",
      "Done! the shape of output cubio is (10000, 4, 4, 8).\n",
      "training at the 4th layer ...\n",
      "Done! the shape of output cubio is (10000, 2, 2, 7).\n",
      "training at the 5th layer ...\n",
      "Done! the shape of output cubio is (10000, 1, 1, 9).\n"
     ]
    }
   ],
   "source": [
    "#preprocess testing image batch and label batch \n",
    "X_test, y_test_batch = image_set_preprocessing(X_test_raw, y_test_raw, batch_ratio = 1)\n",
    "\n",
    "#prepare testing parameters list\n",
    "feature_list_test = []\n",
    "\n",
    "#forward testing process\n",
    "cubio_test = copy.deepcopy(X_test)\n",
    "for layer in range(layer_cnt):\n",
    "    cubio_test = one_stage_testing_v3(cubio_test, layer+1, k, feature_list_test, X_test)"
   ]
  },
  {
   "cell_type": "code",
   "execution_count": 20,
   "metadata": {},
   "outputs": [
    {
     "name": "stdout",
     "output_type": "stream",
     "text": [
      "the shape of features we get is (10000, 1509).\n",
      "Test smaples are under SVM's testing...\n",
      "the number of feature dimensions passing F-test is 754.\n",
      "the number of dimensions kept is 32.\n",
      "SVM accuracy on test sample is 0.927700\n",
      "Test smaples are under SVM's testing...\n",
      "the number of feature dimensions passing F-test is 754.\n",
      "the number of dimensions kept is 64.\n",
      "SVM accuracy on test sample is 0.928600\n",
      "Test smaples are under SVM's testing...\n",
      "the number of feature dimensions passing F-test is 754.\n",
      "the number of dimensions kept is 128.\n",
      "SVM accuracy on test sample is 0.923400\n"
     ]
    }
   ],
   "source": [
    "#colloect all the features from all layers\n",
    "features_test = feature_fusion(feature_list_test, layer_cnt)\n",
    "\n",
    "#F-test --> PCA reducing dims --> SVM testing\n",
    "accuracy_svm_testing_32= SVM_testing(features_test, y_test_batch, Ftest, pca_32, svm_32)\n",
    "accuracy_svm_testing_64= SVM_testing(features_test, y_test_batch, Ftest, pca_64, svm_64)\n",
    "accuracy_svm_testing_128= SVM_testing(features_test, y_test_batch, Ftest, pca_128, svm_128)"
   ]
  },
  {
   "cell_type": "code",
   "execution_count": 16,
   "metadata": {},
   "outputs": [
    {
     "data": {
      "text/plain": [
       "(10000, 1509)"
      ]
     },
     "execution_count": 16,
     "metadata": {},
     "output_type": "execute_result"
    }
   ],
   "source": [
    "features_test.shape"
   ]
  }
 ],
 "metadata": {
  "kernelspec": {
   "display_name": "Python 3",
   "language": "python",
   "name": "python3"
  },
  "language_info": {
   "codemirror_mode": {
    "name": "ipython",
    "version": 3
   },
   "file_extension": ".py",
   "mimetype": "text/x-python",
   "name": "python",
   "nbconvert_exporter": "python",
   "pygments_lexer": "ipython3",
   "version": "3.6.4"
  },
  "toc": {
   "base_numbering": 1,
   "nav_menu": {},
   "number_sections": true,
   "sideBar": true,
   "skip_h1_title": false,
   "title_cell": "Table of Contents",
   "title_sidebar": "Contents",
   "toc_cell": false,
   "toc_position": {
    "height": "calc(100% - 180px)",
    "left": "10px",
    "top": "150px",
    "width": "165px"
   },
   "toc_section_display": true,
   "toc_window_display": false
  }
 },
 "nbformat": 4,
 "nbformat_minor": 2
}
